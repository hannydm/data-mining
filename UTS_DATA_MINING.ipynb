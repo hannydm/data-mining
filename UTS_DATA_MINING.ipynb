{
  "nbformat": 4,
  "nbformat_minor": 0,
  "metadata": {
    "colab": {
      "provenance": [],
      "collapsed_sections": [
        "kx-Uk7p2kjc2"
      ],
      "include_colab_link": true
    },
    "kernelspec": {
      "name": "python3",
      "display_name": "Python 3"
    },
    "language_info": {
      "name": "python"
    }
  },
  "cells": [
    {
      "cell_type": "markdown",
      "metadata": {
        "id": "view-in-github",
        "colab_type": "text"
      },
      "source": [
        "<a href=\"https://colab.research.google.com/github/hannydm/data-mining/blob/main/UTS_DATA_MINING.ipynb\" target=\"_parent\"><img src=\"https://colab.research.google.com/assets/colab-badge.svg\" alt=\"Open In Colab\"/></a>"
      ]
    },
    {
      "cell_type": "markdown",
      "source": [
        "# **IMPORT LIBRARY**"
      ],
      "metadata": {
        "id": "3gBBokHAe48J"
      }
    },
    {
      "cell_type": "code",
      "execution_count": null,
      "metadata": {
        "id": "s5xzQ_eHwm0V"
      },
      "outputs": [],
      "source": [
        "import pandas as pd\n",
        "import seaborn as sns\n",
        "import matplotlib.pyplot as plt\n",
        "import numpy as np"
      ]
    },
    {
      "cell_type": "markdown",
      "source": [
        "Kode ini berguna untuk menampilkan data yang kita miliki."
      ],
      "metadata": {
        "id": "h80fXPwCgNG0"
      }
    },
    {
      "cell_type": "markdown",
      "source": [
        "# **DATASET**"
      ],
      "metadata": {
        "id": "srgphkIghdhg"
      }
    },
    {
      "cell_type": "code",
      "source": [
        "#dataset pertama\n",
        "df = pd.read_excel('angka_kriminalitas_1.xls')\n",
        "df"
      ],
      "metadata": {
        "id": "JRwDcZR5AuHf"
      },
      "execution_count": null,
      "outputs": []
    },
    {
      "cell_type": "markdown",
      "source": [
        "Pada slicing untuk mengecheck column"
      ],
      "metadata": {
        "id": "WD1wywv1Rolh"
      }
    },
    {
      "cell_type": "code",
      "source": [
        "\n",
        "df[['Kejadian :', 'Jumlah Tindak Kriminal Yang Tertangani :' ]]"
      ],
      "metadata": {
        "id": "xES88egUcuht"
      },
      "execution_count": null,
      "outputs": []
    },
    {
      "cell_type": "markdown",
      "source": [
        "code ini berguna untuk memberi tahu tipe *data* ditiap kolom"
      ],
      "metadata": {
        "id": "54HhAS8FRv94"
      }
    },
    {
      "cell_type": "code",
      "source": [
        "df.dtypes"
      ],
      "metadata": {
        "id": "zBxA4RwAJaxf"
      },
      "execution_count": null,
      "outputs": []
    },
    {
      "cell_type": "markdown",
      "source": [
        "Pada df memberi tahu ada berapa baris dan kolom."
      ],
      "metadata": {
        "id": "zT0cP-P6R6y0"
      }
    },
    {
      "cell_type": "code",
      "source": [
        "df.shape"
      ],
      "metadata": {
        "id": "5sCUYUFgJk2A"
      },
      "execution_count": null,
      "outputs": []
    },
    {
      "cell_type": "markdown",
      "source": [
        "Pada Bagian ini memberitahu semua hal yang berkaitan dengan datayang telah dimasukkan"
      ],
      "metadata": {
        "id": "AvAQWggiSDK-"
      }
    },
    {
      "cell_type": "code",
      "source": [
        "df.info()"
      ],
      "metadata": {
        "id": "igoKHmXzCEMe"
      },
      "execution_count": null,
      "outputs": []
    },
    {
      "cell_type": "markdown",
      "source": [
        "code untuk mencari data yg mungkin hilang"
      ],
      "metadata": {
        "id": "y6rn5H92SSLf"
      }
    },
    {
      "cell_type": "code",
      "source": [
        "df.isna().sum()"
      ],
      "metadata": {
        "id": "aF942NVKCZj9"
      },
      "execution_count": null,
      "outputs": []
    },
    {
      "cell_type": "markdown",
      "source": [
        "Ini menampilkan data kedua,sebgai data pendukung"
      ],
      "metadata": {
        "id": "CfY0L5vISaRG"
      }
    },
    {
      "cell_type": "code",
      "source": [
        "#data kedua\n",
        "df2 = pd.read_excel('penyandang-masalah-kesejahteraan-sosial-dan-sarana-kesejahteraan-sosial-prov.-kaltim-tahun-2016-.xlsx')\n",
        "df2"
      ],
      "metadata": {
        "id": "yMEh3lphUhzJ"
      },
      "execution_count": null,
      "outputs": []
    },
    {
      "source": [
        "# @title NO vs 2016\n",
        "\n",
        "from matplotlib import pyplot as plt\n",
        "import seaborn as sns\n",
        "def _plot_series(series, series_name, series_index=0):\n",
        "  palette = list(sns.palettes.mpl_palette('Dark2'))\n",
        "  xs = series['NO']\n",
        "  ys = series[2016]\n",
        "\n",
        "  plt.plot(xs, ys, label=series_name, color=palette[series_index % len(palette)])\n",
        "\n",
        "fig, ax = plt.subplots(figsize=(10, 5.2), layout='constrained')\n",
        "df_sorted = df2.sort_values('NO', ascending=True)\n",
        "_plot_series(df_sorted, '')\n",
        "sns.despine(fig=fig, ax=ax)\n",
        "plt.xlabel('NO')\n",
        "_ = plt.ylabel(2016)"
      ],
      "cell_type": "code",
      "execution_count": null,
      "outputs": [],
      "metadata": {
        "id": "OGcuZ6pCXWm_"
      }
    },
    {
      "source": [
        "# @title NO vs 2017\n",
        "\n",
        "from matplotlib import pyplot as plt\n",
        "import seaborn as sns\n",
        "def _plot_series(series, series_name, series_index=0):\n",
        "  palette = list(sns.palettes.mpl_palette('Dark2'))\n",
        "  xs = series['NO']\n",
        "  ys = series[2017]\n",
        "\n",
        "  plt.plot(xs, ys, label=series_name, color=palette[series_index % len(palette)])\n",
        "\n",
        "fig, ax = plt.subplots(figsize=(10, 5.2), layout='constrained')\n",
        "df_sorted = df2.sort_values('NO', ascending=True)\n",
        "_plot_series(df_sorted, '')\n",
        "sns.despine(fig=fig, ax=ax)\n",
        "plt.xlabel('NO')\n",
        "_ = plt.ylabel(2017)"
      ],
      "cell_type": "code",
      "execution_count": null,
      "outputs": [],
      "metadata": {
        "id": "-UuU9jwvXkfG"
      }
    },
    {
      "source": [
        "# @title NO vs 2018\n",
        "\n",
        "from matplotlib import pyplot as plt\n",
        "import seaborn as sns\n",
        "def _plot_series(series, series_name, series_index=0):\n",
        "  palette = list(sns.palettes.mpl_palette('Dark2'))\n",
        "  xs = series['NO']\n",
        "  ys = series[2018]\n",
        "\n",
        "  plt.plot(xs, ys, label=series_name, color=palette[series_index % len(palette)])\n",
        "\n",
        "fig, ax = plt.subplots(figsize=(10, 5.2), layout='constrained')\n",
        "df_sorted = df2.sort_values('NO', ascending=True)\n",
        "_plot_series(df_sorted, '')\n",
        "sns.despine(fig=fig, ax=ax)\n",
        "plt.xlabel('NO')\n",
        "_ = plt.ylabel(2018)"
      ],
      "cell_type": "code",
      "execution_count": null,
      "outputs": [],
      "metadata": {
        "id": "ay5oOzPmfIXI"
      }
    },
    {
      "source": [
        "# @title NO vs 2019\n",
        "\n",
        "from matplotlib import pyplot as plt\n",
        "import seaborn as sns\n",
        "def _plot_series(series, series_name, series_index=0):\n",
        "  palette = list(sns.palettes.mpl_palette('Dark2'))\n",
        "  xs = series['NO']\n",
        "  ys = series[2019]\n",
        "\n",
        "  plt.plot(xs, ys, label=series_name, color=palette[series_index % len(palette)])\n",
        "\n",
        "fig, ax = plt.subplots(figsize=(10, 5.2), layout='constrained')\n",
        "df_sorted = df2.sort_values('NO', ascending=True)\n",
        "_plot_series(df_sorted, '')\n",
        "sns.despine(fig=fig, ax=ax)\n",
        "plt.xlabel('NO')\n",
        "_ = plt.ylabel(2019)"
      ],
      "cell_type": "code",
      "execution_count": null,
      "outputs": [],
      "metadata": {
        "id": "apPiCwo7e_hi"
      }
    },
    {
      "cell_type": "markdown",
      "source": [
        "menanmpilkan informasi data ke 2"
      ],
      "metadata": {
        "id": "A3gi8YVUSpSf"
      }
    },
    {
      "cell_type": "code",
      "source": [
        "df2.dtypes"
      ],
      "metadata": {
        "id": "6UEFiilda90u"
      },
      "execution_count": null,
      "outputs": []
    },
    {
      "cell_type": "markdown",
      "source": [
        "Pada kolom kali ini df.info() berguna untuk memberikan informasi tentang data yang ada."
      ],
      "metadata": {
        "id": "wO32b--vgeWE"
      }
    },
    {
      "cell_type": "code",
      "source": [
        "df2.info()"
      ],
      "metadata": {
        "id": "mhQUWuDnZZzh"
      },
      "execution_count": null,
      "outputs": []
    },
    {
      "cell_type": "code",
      "source": [
        "df2.shape"
      ],
      "metadata": {
        "id": "IfU7txF0bKqf"
      },
      "execution_count": null,
      "outputs": []
    },
    {
      "cell_type": "markdown",
      "source": [
        "selanjutnya untuk mencari value  missing, bisa kita lakukan dengan sebagai berikut"
      ],
      "metadata": {
        "id": "NCuHDbfPg0fG"
      }
    },
    {
      "cell_type": "code",
      "source": [
        "df2.isna().sum()"
      ],
      "metadata": {
        "id": "hBVlYn0ibVXy"
      },
      "execution_count": null,
      "outputs": []
    },
    {
      "cell_type": "markdown",
      "source": [
        "# **HISTOGRAM**"
      ],
      "metadata": {
        "id": "kx-Uk7p2kjc2"
      }
    },
    {
      "cell_type": "code",
      "source": [
        "# membuat variable untuk dijadikan plot\n",
        "# membuat variable dari dataset yang pertama\n",
        "\n",
        "year_number = df.loc[:, 'Tahun'].values\n",
        "pembunuhan_number = df.loc[:, 'Pembunuhan'].values\n",
        "pb_number = df.loc[:, 'Penganiayaan Berat'].values\n",
        "penculikan_number = df.loc[:, 'Penculikan'].values\n",
        "pdk_number = df.loc[:, 'Pencurian dengan Kekerasan'].values\n",
        "pdp_number = df.loc[:, 'Pencurian dengan Pemberatan'].values\n",
        "pranmor_number = df.loc[:, 'Pencurian Ranmor R2 & R4'].values\n",
        "pr_number = df.loc[:, 'Penganiayaan Ringan'].values\n",
        "pemerkosaan_number = df.loc[:, 'Pemerkosaan'].values\n",
        "pembakaran_number = df.loc[:, 'Pembakaran'].values\n",
        "senjata_number = df.loc[:, 'Senpi/Handak'].values\n",
        "pemerasan_number = df.loc[:, 'Pemerasan'].values\n",
        "penyelundupan_number = df.loc[:, 'Penyelundupan'].values\n",
        "korupsi_number = df.loc[:, 'Kejahatan Terhadap Kekayaan Negara'].values\n",
        "year_number"
      ],
      "metadata": {
        "colab": {
          "base_uri": "https://localhost:8080/"
        },
        "id": "Q_5Ss2X8kRuG",
        "outputId": "0ab3b0a7-b768-4389-ce73-10f40ce08545"
      },
      "execution_count": null,
      "outputs": [
        {
          "output_type": "execute_result",
          "data": {
            "text/plain": [
              "array([2016, 2017, 2018, 2019, 2020])"
            ]
          },
          "metadata": {},
          "execution_count": 16
        }
      ]
    },
    {
      "cell_type": "code",
      "source": [
        "# plt.style.use('seaborn')\n",
        "# fig, axes = plt.subplots(nrows = 1, ncols = 1);\n",
        "\n",
        "plt.plot(year_number, pembunuhan_number, c = 'blue', marker = '.', markersize = 10, label = 'Pembunuhan')\n",
        "plt.plot(year_number, pb_number, c = 'red', marker = '.', markersize = 10, label = 'Penganiayaan Berat')\n",
        "plt.plot(year_number, penculikan_number, c = 'purple', marker = '.', markersize = 10, label = 'Penculikan')\n",
        "plt.plot(year_number, pdk_number, c = 'yellow', marker = '.', markersize = 10, label = 'Pencurian dengan Kekerasan')\n",
        "plt.plot(year_number, pdp_number, c = 'green', marker = '.', markersize = 10, label ='Pencurian dengan Pemberatan')\n",
        "plt.plot(year_number, pranmor_number, c = 'black', marker = '.', markersize = 10, label ='Pencurian Ranmow R2 & R4')\n",
        "plt.plot(year_number, pr_number, c = 'grey', marker = '.', markersize = 10, label = 'Penganiayaan Ringan')\n",
        "plt.plot(year_number, pemerkosaan_number, c = 'orange', marker = '.', markersize = 10, label = 'Pemerkosaan')\n",
        "plt.plot(year_number, pembakaran_number, c = 'pink', marker = '.', markersize = 10, label = 'Pembakaran')\n",
        "plt.plot(year_number, senjata_number, c = 'magenta', marker = '.', markersize = 10, label = 'Senpi/Handak')\n",
        "plt.plot(year_number, pemerasan_number, c = 'cyan', marker = '.', markersize = 10, label = 'Pemerasan')\n",
        "plt.plot(year_number, penyelundupan_number, c = 'indigo', marker = '.', markersize = 10, label = 'Penyelundupan')\n",
        "plt.plot(year_number, korupsi_number, c = 'olive', marker = '.', markersize = 10, label ='Kejahatan Terhadap Kekayaan Negara')\n",
        "\n",
        "plt.xlabel('Tahun', fontsize = 20)\n",
        "plt.ylabel('Banyaknya Kejadian', fontsize = 20)\n",
        "plt.title('Melihat Banyaknya Kriminalitas Tiap Tahun', fontsize = 20)\n",
        "\n",
        "plt.legend()\n",
        "\n",
        "# plt.grid() # sama untuk membuat grid cuman dia tidak mempunyai warna background\n"
      ],
      "metadata": {
        "id": "wjBGH_QUjaFn"
      },
      "execution_count": null,
      "outputs": []
    },
    {
      "cell_type": "markdown",
      "source": [
        "Dalam analisis data yang kami uji, kami mengamati pola yang menarik dalam tingkat kejahatan. Histogram ini menggambarkan distribusi frekuensi kejahatan berdasarkan jenisnya. Dari data yang kami kumpulkan, terlihat bahwa kejahatan pencurian ranmor memiliki frekuensi tertinggi, diikuti oleh Pencurian dengan pembaratan, seta . Namun, perlu dicatat bahwa kejahatan narkotika menunjukkan peningkatan yang signifikan dalam beberapa bulan terakhir, menyiratkan adanya perubahan dalam dinamika kejahatan di wilayah ini. Analisis lebih lanjut diperlukan untuk memahami faktor-faktor yang mendasari tren ini dan mengembangkan strategi pencegahan yang efektif.\"\n",
        "\n",
        "\n",
        "\n",
        "\n",
        "\n",
        "\n"
      ],
      "metadata": {
        "id": "bp6cVJXqT3yh"
      }
    },
    {
      "source": [
        "from matplotlib import pyplot as plt\n",
        "df.plot(kind='scatter', x='Kejadian :', y='Pencurian Ranmor R2 & R4', s=32, alpha=.8)\n",
        "plt.gca().spines[['top', 'right',]].set_visible(False)"
      ],
      "cell_type": "code",
      "metadata": {
        "id": "6n8hqISvQF1s"
      },
      "execution_count": null,
      "outputs": []
    },
    {
      "source": [
        "from matplotlib import pyplot as plt\n",
        "df.plot(kind='scatter', x='Kejadian :', y='Pembunuhan', s=32, alpha=.8)\n",
        "plt.gca().spines[['top', 'right',]].set_visible(False)"
      ],
      "cell_type": "code",
      "metadata": {
        "id": "OKMyLMTwQGWX"
      },
      "execution_count": null,
      "outputs": []
    },
    {
      "cell_type": "markdown",
      "source": [
        "Untuk menampilkan histogram dari kasus Pembunuhan."
      ],
      "metadata": {
        "id": "f6wOoZg3g9D4"
      }
    },
    {
      "source": [
        "from matplotlib import pyplot as plt\n",
        "df['Pembunuhan'].plot(kind='hist', bins=20, title='Pembunuhan')\n",
        "plt.gca().spines[['top', 'right',]].set_visible(False)"
      ],
      "cell_type": "code",
      "metadata": {
        "id": "4TnOhOaWMkB6"
      },
      "execution_count": null,
      "outputs": []
    },
    {
      "cell_type": "markdown",
      "source": [
        "Untuk menampilkan histogram dari kasus Penganiayaan Berat."
      ],
      "metadata": {
        "id": "vrCpXHcChKlt"
      }
    },
    {
      "cell_type": "code",
      "source": [
        "from matplotlib import pyplot as plt\n",
        "df['Penganiayaan Berat'].plot(kind='hist', bins=20, title='Penganiayaan Berat')\n",
        "plt.gca().spines[['top', 'right',]].set_visible(False)"
      ],
      "metadata": {
        "id": "cInLop58Vpvg"
      },
      "execution_count": null,
      "outputs": []
    },
    {
      "cell_type": "markdown",
      "source": [
        "Untuk menampilkan histogram dari kasus Penculikan."
      ],
      "metadata": {
        "id": "YBg5Fh3RhPz6"
      }
    },
    {
      "cell_type": "code",
      "source": [
        "from matplotlib import pyplot as plt\n",
        "df['Penculikan'].plot(kind='hist', bins=20, title='Penculikan')\n",
        "plt.gca().spines[['top', 'right',]].set_visible(False)"
      ],
      "metadata": {
        "id": "Pmhz1bubWHo_"
      },
      "execution_count": null,
      "outputs": []
    },
    {
      "cell_type": "markdown",
      "source": [
        "Untuk menampilkan histogram dari kasus Pencurian dengan kekerasan."
      ],
      "metadata": {
        "id": "_DImuUfShVRK"
      }
    },
    {
      "cell_type": "code",
      "source": [
        "from matplotlib import pyplot as plt\n",
        "df['Pencurian dengan Kekerasan'].plot(kind='hist', bins=20, title='Pencurian dengan Kekerasan')\n",
        "plt.gca().spines[['top', 'right',]].set_visible(False)"
      ],
      "metadata": {
        "id": "8yFuaKvoWIA3"
      },
      "execution_count": null,
      "outputs": []
    },
    {
      "cell_type": "markdown",
      "source": [
        "Untuk menampilkan histogram dari kasus Pencurian dengan Pemberatan."
      ],
      "metadata": {
        "id": "wJXA9rBmhcZc"
      }
    },
    {
      "cell_type": "code",
      "source": [
        "from matplotlib import pyplot as plt\n",
        "df['Pencurian dengan Pemberatan'].plot(kind='hist', bins=20, title='Pencurian dengan Pemberatan')\n",
        "plt.gca().spines[['top', 'right',]].set_visible(False)"
      ],
      "metadata": {
        "id": "eSevco5yWIYf"
      },
      "execution_count": null,
      "outputs": []
    },
    {
      "cell_type": "markdown",
      "source": [
        "Untuk menampilkan histogram dari kasus Pencurian Ranmor R2 & R4"
      ],
      "metadata": {
        "id": "jeU9EtbghiMb"
      }
    },
    {
      "cell_type": "code",
      "source": [
        "from matplotlib import pyplot as plt\n",
        "df['Pencurian Ranmor R2 & R4'].plot(kind='hist', bins=20, title='Pencurian Ranmor R2 & R4')\n",
        "plt.gca().spines[['top', 'right',]].set_visible(False)"
      ],
      "metadata": {
        "id": "OOyxJtZDWI5I"
      },
      "execution_count": null,
      "outputs": []
    },
    {
      "cell_type": "markdown",
      "source": [
        "Untuk menampilkan histogram dari kasus Penganiayaan Ringan."
      ],
      "metadata": {
        "id": "APAcvoI9ho04"
      }
    },
    {
      "cell_type": "code",
      "source": [
        "from matplotlib import pyplot as plt\n",
        "df['Penganiayaan Ringan'].plot(kind='hist', bins=20, title='Penganiayaan Ringan')\n",
        "plt.gca().spines[['top', 'right',]].set_visible(False)"
      ],
      "metadata": {
        "id": "3XO9yCZpczTQ"
      },
      "execution_count": null,
      "outputs": []
    },
    {
      "cell_type": "markdown",
      "source": [
        "Untuk menampilkan histogram dari kasus Pemerkosaan.\n"
      ],
      "metadata": {
        "id": "sDCf9KhOhtWx"
      }
    },
    {
      "cell_type": "code",
      "source": [
        "from matplotlib import pyplot as plt\n",
        "df['Pemerkosaan'].plot(kind='hist', bins=20, title='Pemerkosaan')\n",
        "plt.gca().spines[['top', 'right',]].set_visible(False)"
      ],
      "metadata": {
        "id": "K6uOPViXdJGO"
      },
      "execution_count": null,
      "outputs": []
    },
    {
      "cell_type": "markdown",
      "source": [
        "Untuk menampilkan histogram dari kasus Pembakaran"
      ],
      "metadata": {
        "id": "7FXpLEhrhwui"
      }
    },
    {
      "cell_type": "code",
      "source": [
        "from matplotlib import pyplot as plt\n",
        "df['Pembakaran'].plot(kind='hist', bins=20, title='Pembakaran')\n",
        "plt.gca().spines[['top', 'right',]].set_visible(False)"
      ],
      "metadata": {
        "id": "nzeSlTGodVhM"
      },
      "execution_count": null,
      "outputs": []
    },
    {
      "cell_type": "markdown",
      "source": [
        "Untuk menampilkan histogram dari kasus Senpi/Handak"
      ],
      "metadata": {
        "id": "Kq2Ee0Nbhzt5"
      }
    },
    {
      "cell_type": "code",
      "source": [
        "from matplotlib import pyplot as plt\n",
        "df['Senpi/Handak'].plot(kind='hist', bins=20, title='Senpi/Handak')\n",
        "plt.gca().spines[['top', 'right',]].set_visible(False)"
      ],
      "metadata": {
        "id": "MjnlEgfFdkmo"
      },
      "execution_count": null,
      "outputs": []
    },
    {
      "cell_type": "markdown",
      "source": [
        "Untuk menampilkan histogram dari kasus Pemerasaan."
      ],
      "metadata": {
        "id": "vt-v9LFOh5bn"
      }
    },
    {
      "cell_type": "code",
      "source": [
        "from matplotlib import pyplot as plt\n",
        "df['Pemerasan'].plot(kind='hist', bins=20, title='Pemerasan')\n",
        "plt.gca().spines[['top', 'right',]].set_visible(False)"
      ],
      "metadata": {
        "id": "JgCQQ4USdyWd"
      },
      "execution_count": null,
      "outputs": []
    },
    {
      "cell_type": "markdown",
      "source": [
        "Untuk menampilkan histogram dari kasus Penyelundupan."
      ],
      "metadata": {
        "id": "4XN8PwiEh_UT"
      }
    },
    {
      "cell_type": "code",
      "source": [
        "from matplotlib import pyplot as plt\n",
        "df['Penyelundupan'].plot(kind='hist', bins=20, title='Penyelundupan')\n",
        "plt.gca().spines[['top', 'right',]].set_visible(False)"
      ],
      "metadata": {
        "id": "6hN9I2Jwd76R"
      },
      "execution_count": null,
      "outputs": []
    },
    {
      "cell_type": "markdown",
      "source": [
        "Untuk menampilkan histogram dari kasus Kejahatan Terhadap kekayaan Negara."
      ],
      "metadata": {
        "id": "NpVL13Y7iCQM"
      }
    },
    {
      "cell_type": "code",
      "source": [
        "from matplotlib import pyplot as plt\n",
        "df['Kejahatan Terhadap Kekayaan Negara'].plot(kind='hist', bins=20, title='Kekayaan Terhadap Kekayaan Negara')\n",
        "plt.gca().spines[['top', 'right',]].set_visible(False)"
      ],
      "metadata": {
        "id": "yRenOxEmeEPO"
      },
      "execution_count": null,
      "outputs": []
    }
  ]
}